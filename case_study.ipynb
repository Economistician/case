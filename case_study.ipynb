{
 "cells": [
  {
   "cell_type": "markdown",
   "metadata": {},
   "source": [
    "<title>[Hello]</title>\n",
    "<img align=\"center\" src=\"https://inspirebrands.com/wp-content/uploads/2017/10/Inspire_Logo.png\" width=\"280\" height=\"70\">"
   ]
  },
  {
   "cell_type": "markdown",
   "metadata": {},
   "source": [
    "<hr>"
   ]
  },
  {
   "cell_type": "markdown",
   "metadata": {},
   "source": [
    "# <center><u>Sales Forecast, Print Media Effectiveness, and Marketing Strategies</u></center>"
   ]
  },
  {
   "cell_type": "markdown",
   "metadata": {},
   "source": [
    "## Introduction"
   ]
  },
  {
   "cell_type": "markdown",
   "metadata": {},
   "source": [
    "The Brand President and CMO require aid in setting the course for the company's future and evaluating the efficacy of marketing efforts. To accomplish this, they request insight from the brand's data science team."
   ]
  },
  {
   "cell_type": "markdown",
   "metadata": {},
   "source": [
    "### Problem Satement"
   ]
  },
  {
   "cell_type": "markdown",
   "metadata": {},
   "source": [
    "With available data, the executives are requesting answers to the following questions:\n",
    "\n",
    "1. What are the forecasted, corporate weekly sales?\n",
    "2. Is the print media program effective? What lift does it provide?\n",
    "3. What additional (if any) inputs are most descriptive of sales?\n",
    "4. Given the above findings, what marketing strategies would you shift to increase sales growth?"
   ]
  },
  {
   "cell_type": "markdown",
   "metadata": {},
   "source": [
    "### Approach"
   ]
  },
  {
   "cell_type": "markdown",
   "metadata": {},
   "source": [
    "#### Sales Forecast"
   ]
  },
  {
   "cell_type": "markdown",
   "metadata": {},
   "source": [
    "TBD"
   ]
  },
  {
   "cell_type": "markdown",
   "metadata": {},
   "source": [
    "#### Print Media"
   ]
  },
  {
   "cell_type": "markdown",
   "metadata": {},
   "source": [
    "TBD"
   ]
  },
  {
   "cell_type": "markdown",
   "metadata": {},
   "source": [
    "#### Sales Insight"
   ]
  },
  {
   "cell_type": "markdown",
   "metadata": {},
   "source": [
    "TBD"
   ]
  },
  {
   "cell_type": "markdown",
   "metadata": {},
   "source": [
    "#### Marketing Strategies"
   ]
  },
  {
   "cell_type": "markdown",
   "metadata": {},
   "source": [
    "TBD"
   ]
  },
  {
   "cell_type": "markdown",
   "metadata": {},
   "source": [
    "### Imports"
   ]
  },
  {
   "cell_type": "code",
   "execution_count": 1,
   "metadata": {},
   "outputs": [],
   "source": [
    "import numpy as np\n",
    "import pandas as pd\n",
    "\n",
    "from datetime import datetime\n",
    "\n",
    "import warnings\n",
    "warnings.filterwarnings(\"ignore\")"
   ]
  },
  {
   "cell_type": "markdown",
   "metadata": {},
   "source": [
    "## Data Processing"
   ]
  },
  {
   "cell_type": "markdown",
   "metadata": {},
   "source": [
    "The available data are stored in CSV files. To be suitable for evaluation use, they need to be cleansed and aggregated. The following DataFrames are the result of this processing:\n",
    "\n",
    "1. **arg_sales** - Contains daily sales at location level\n",
    "    - rest_number (int64)\n",
    "    - rest_dma_code (int64)\n",
    "    - rest_dma_desc (object)\n",
    "    - fiscal_year (int64)\n",
    "    - fiscal_week_number (int64)\n",
    "    - days_date (object)\n",
    "    - sales_ty (float64)\n",
    "    \n",
    "2. **media**\n",
    "    - rest_dma_code (int64)\n",
    "    - fiscal_year (int64)\n",
    "    - fiscal_week_number (int64)\n",
    "    - onair_ty (int64)\n",
    "    - equal_trps_cm_ty (float64)\n",
    "    \n",
    "3. **competitive** - Contains an integer quantity count per competitor for five competitors within a radius of 1 and 0.5 miles\n",
    "    - store (int64)\n",
    "    - mcd_1_mi, subway_1_mi, wendys_1_mi, bk_1_mi, tb_1_mi (int64)\n",
    "    - mcd_hlf_mi, subway_hlf_mi, wendys_hlf_mi, bk_hlf_mi, tb_hlf_mi (int64)\n",
    "    \n",
    "4. **restaurant** - Contains store level profile information regarding relative location, store status, open/close/remodel dates\n",
    "    - rest_number (Int64)\n",
    "    - rest_status (object)\n",
    "    - rest_addrstate (object)\n",
    "    - rest_remodeldt (object)\n",
    "    - rest_opendate (object)\n",
    "    - rest_closedate (object)\n",
    "    \n",
    "5. **store_print** - Unclear; \"drop_date\" is the significant value, but don't understand its purpose\n",
    "    - rest_number (int64)\n",
    "    - drop_date (object)\n",
    "    - fiscal_year (int64)\n",
    "    - fiscal_week_number (int64)\n",
    "    \n",
    "6. **weather** - Contains weather data at store level for a given day\n",
    "    - rest_number (Int64)\n",
    "    - rest_dma_code (Int64)\n",
    "    - rest_dma_desc (object)\n",
    "    - date_ty (object)\n",
    "    - temp_avg, temp_max, temp_min (float64)\n",
    "    - thunderstorm_bucket, rain_bucket, snow_bucket (object)\n",
    "    - snow, thunderstorm, rain, clear_weather (Int64): Boolean values"
   ]
  },
  {
   "cell_type": "markdown",
   "metadata": {},
   "source": [
    "### arg_sales"
   ]
  },
  {
   "cell_type": "markdown",
   "metadata": {},
   "source": [
    "*arg_sales* is a DataFrame comprised of two separate CSV files (arg_sales_2015_2016.csv & arg_sales_2017_2018.csv), and they contain daily sales values at the store level with additional location and calendar information.\n",
    "\n",
    "The following changes are applied to alter their original form:\n",
    "\n",
    "1. Both CSV files are read, appended, and stored in a final DataFrame\n",
    "2. The DataFrame index is reset to eliminate duplication values as a result of the concat function\n",
    "3. Column headers are reduced to lower case\n",
    "4. Records from location 6127 were removed due to large sales abnormalities (e.g. negative $50k sales in one day)"
   ]
  },
  {
   "cell_type": "code",
   "execution_count": 2,
   "metadata": {},
   "outputs": [],
   "source": [
    "arg_sales = pd.concat(map(pd.read_csv, ['arg_sales_2015_2016.csv', 'arg_sales_2017_2018.csv']))"
   ]
  },
  {
   "cell_type": "code",
   "execution_count": 3,
   "metadata": {},
   "outputs": [],
   "source": [
    "arg_sales = arg_sales.reset_index(drop=True)"
   ]
  },
  {
   "cell_type": "code",
   "execution_count": 4,
   "metadata": {},
   "outputs": [],
   "source": [
    "arg_sales.columns = map(str.lower, arg_sales.columns)"
   ]
  },
  {
   "cell_type": "code",
   "execution_count": 5,
   "metadata": {},
   "outputs": [
    {
     "data": {
      "text/html": [
       "<div>\n",
       "<style scoped>\n",
       "    .dataframe tbody tr th:only-of-type {\n",
       "        vertical-align: middle;\n",
       "    }\n",
       "\n",
       "    .dataframe tbody tr th {\n",
       "        vertical-align: top;\n",
       "    }\n",
       "\n",
       "    .dataframe thead th {\n",
       "        text-align: right;\n",
       "    }\n",
       "</style>\n",
       "<table border=\"1\" class=\"dataframe\">\n",
       "  <thead>\n",
       "    <tr style=\"text-align: right;\">\n",
       "      <th></th>\n",
       "      <th>rest_number</th>\n",
       "      <th>rest_dma_code</th>\n",
       "      <th>rest_dma_desc</th>\n",
       "      <th>fiscal_year</th>\n",
       "      <th>fiscal_week_number</th>\n",
       "      <th>days_date</th>\n",
       "      <th>sales_ty</th>\n",
       "    </tr>\n",
       "  </thead>\n",
       "  <tbody>\n",
       "    <tr>\n",
       "      <th>0</th>\n",
       "      <td>1</td>\n",
       "      <td>536</td>\n",
       "      <td>YOUNGSTOWN</td>\n",
       "      <td>2015</td>\n",
       "      <td>1</td>\n",
       "      <td>12/29/2014</td>\n",
       "      <td>2600.03</td>\n",
       "    </tr>\n",
       "    <tr>\n",
       "      <th>1</th>\n",
       "      <td>1</td>\n",
       "      <td>536</td>\n",
       "      <td>YOUNGSTOWN</td>\n",
       "      <td>2015</td>\n",
       "      <td>1</td>\n",
       "      <td>12/30/2014</td>\n",
       "      <td>2333.04</td>\n",
       "    </tr>\n",
       "    <tr>\n",
       "      <th>2</th>\n",
       "      <td>1</td>\n",
       "      <td>536</td>\n",
       "      <td>YOUNGSTOWN</td>\n",
       "      <td>2015</td>\n",
       "      <td>1</td>\n",
       "      <td>12/31/2014</td>\n",
       "      <td>2045.05</td>\n",
       "    </tr>\n",
       "    <tr>\n",
       "      <th>3</th>\n",
       "      <td>1</td>\n",
       "      <td>536</td>\n",
       "      <td>YOUNGSTOWN</td>\n",
       "      <td>2015</td>\n",
       "      <td>1</td>\n",
       "      <td>1/1/2015</td>\n",
       "      <td>1355.33</td>\n",
       "    </tr>\n",
       "    <tr>\n",
       "      <th>4</th>\n",
       "      <td>1</td>\n",
       "      <td>536</td>\n",
       "      <td>YOUNGSTOWN</td>\n",
       "      <td>2015</td>\n",
       "      <td>1</td>\n",
       "      <td>1/2/2015</td>\n",
       "      <td>2645.63</td>\n",
       "    </tr>\n",
       "  </tbody>\n",
       "</table>\n",
       "</div>"
      ],
      "text/plain": [
       "   rest_number  rest_dma_code                   rest_dma_desc  fiscal_year  \\\n",
       "0            1            536  YOUNGSTOWN                             2015   \n",
       "1            1            536  YOUNGSTOWN                             2015   \n",
       "2            1            536  YOUNGSTOWN                             2015   \n",
       "3            1            536  YOUNGSTOWN                             2015   \n",
       "4            1            536  YOUNGSTOWN                             2015   \n",
       "\n",
       "   fiscal_week_number   days_date  sales_ty  \n",
       "0                   1  12/29/2014   2600.03  \n",
       "1                   1  12/30/2014   2333.04  \n",
       "2                   1  12/31/2014   2045.05  \n",
       "3                   1    1/1/2015   1355.33  \n",
       "4                   1    1/2/2015   2645.63  "
      ]
     },
     "execution_count": 5,
     "metadata": {},
     "output_type": "execute_result"
    }
   ],
   "source": [
    "arg_sales.head()"
   ]
  },
  {
   "cell_type": "code",
   "execution_count": 6,
   "metadata": {},
   "outputs": [
    {
     "name": "stdout",
     "output_type": "stream",
     "text": [
      "<class 'pandas.core.frame.DataFrame'>\n",
      "RangeIndex: 1495669 entries, 0 to 1495668\n",
      "Data columns (total 7 columns):\n",
      "rest_number           1495669 non-null int64\n",
      "rest_dma_code         1495669 non-null int64\n",
      "rest_dma_desc         1495669 non-null object\n",
      "fiscal_year           1495669 non-null int64\n",
      "fiscal_week_number    1495669 non-null int64\n",
      "days_date             1495669 non-null object\n",
      "sales_ty              1495669 non-null float64\n",
      "dtypes: float64(1), int64(4), object(2)\n",
      "memory usage: 79.9+ MB\n"
     ]
    }
   ],
   "source": [
    "arg_sales.info()"
   ]
  },
  {
   "cell_type": "markdown",
   "metadata": {},
   "source": [
    "**Note**: No values are missing from any columns."
   ]
  },
  {
   "cell_type": "code",
   "execution_count": 7,
   "metadata": {},
   "outputs": [
    {
     "data": {
      "text/html": [
       "<div>\n",
       "<style scoped>\n",
       "    .dataframe tbody tr th:only-of-type {\n",
       "        vertical-align: middle;\n",
       "    }\n",
       "\n",
       "    .dataframe tbody tr th {\n",
       "        vertical-align: top;\n",
       "    }\n",
       "\n",
       "    .dataframe thead th {\n",
       "        text-align: right;\n",
       "    }\n",
       "</style>\n",
       "<table border=\"1\" class=\"dataframe\">\n",
       "  <thead>\n",
       "    <tr style=\"text-align: right;\">\n",
       "      <th></th>\n",
       "      <th>count</th>\n",
       "      <th>mean</th>\n",
       "      <th>std</th>\n",
       "      <th>min</th>\n",
       "      <th>25%</th>\n",
       "      <th>50%</th>\n",
       "      <th>75%</th>\n",
       "      <th>max</th>\n",
       "    </tr>\n",
       "  </thead>\n",
       "  <tbody>\n",
       "    <tr>\n",
       "      <th>rest_number</th>\n",
       "      <td>1495669.0</td>\n",
       "      <td>4578.443654</td>\n",
       "      <td>2987.946855</td>\n",
       "      <td>1.00</td>\n",
       "      <td>1172.00</td>\n",
       "      <td>5817.00</td>\n",
       "      <td>7205.00</td>\n",
       "      <td>9002.00</td>\n",
       "    </tr>\n",
       "    <tr>\n",
       "      <th>rest_dma_code</th>\n",
       "      <td>1495669.0</td>\n",
       "      <td>565.140629</td>\n",
       "      <td>65.725009</td>\n",
       "      <td>501.00</td>\n",
       "      <td>518.00</td>\n",
       "      <td>536.00</td>\n",
       "      <td>613.00</td>\n",
       "      <td>819.00</td>\n",
       "    </tr>\n",
       "    <tr>\n",
       "      <th>fiscal_year</th>\n",
       "      <td>1495669.0</td>\n",
       "      <td>2016.564610</td>\n",
       "      <td>1.116557</td>\n",
       "      <td>2015.00</td>\n",
       "      <td>2016.00</td>\n",
       "      <td>2017.00</td>\n",
       "      <td>2018.00</td>\n",
       "      <td>2018.00</td>\n",
       "    </tr>\n",
       "    <tr>\n",
       "      <th>fiscal_week_number</th>\n",
       "      <td>1495669.0</td>\n",
       "      <td>26.765992</td>\n",
       "      <td>15.038973</td>\n",
       "      <td>1.00</td>\n",
       "      <td>14.00</td>\n",
       "      <td>27.00</td>\n",
       "      <td>40.00</td>\n",
       "      <td>53.00</td>\n",
       "    </tr>\n",
       "    <tr>\n",
       "      <th>sales_ty</th>\n",
       "      <td>1495669.0</td>\n",
       "      <td>3547.334603</td>\n",
       "      <td>1261.547286</td>\n",
       "      <td>-54736.12</td>\n",
       "      <td>2721.49</td>\n",
       "      <td>3442.43</td>\n",
       "      <td>4264.99</td>\n",
       "      <td>57748.24</td>\n",
       "    </tr>\n",
       "  </tbody>\n",
       "</table>\n",
       "</div>"
      ],
      "text/plain": [
       "                        count         mean          std       min      25%  \\\n",
       "rest_number         1495669.0  4578.443654  2987.946855      1.00  1172.00   \n",
       "rest_dma_code       1495669.0   565.140629    65.725009    501.00   518.00   \n",
       "fiscal_year         1495669.0  2016.564610     1.116557   2015.00  2016.00   \n",
       "fiscal_week_number  1495669.0    26.765992    15.038973      1.00    14.00   \n",
       "sales_ty            1495669.0  3547.334603  1261.547286 -54736.12  2721.49   \n",
       "\n",
       "                        50%      75%       max  \n",
       "rest_number         5817.00  7205.00   9002.00  \n",
       "rest_dma_code        536.00   613.00    819.00  \n",
       "fiscal_year         2017.00  2018.00   2018.00  \n",
       "fiscal_week_number    27.00    40.00     53.00  \n",
       "sales_ty            3442.43  4264.99  57748.24  "
      ]
     },
     "execution_count": 7,
     "metadata": {},
     "output_type": "execute_result"
    }
   ],
   "source": [
    "arg_sales.describe().transpose()"
   ]
  },
  {
   "cell_type": "markdown",
   "metadata": {},
   "source": [
    "**Note**: *sale_ty* exhibits extreme low and extreme highs. Further investigation is warranted."
   ]
  },
  {
   "cell_type": "markdown",
   "metadata": {},
   "source": [
    "Display record with maximum *sales_ty* vale"
   ]
  },
  {
   "cell_type": "code",
   "execution_count": 8,
   "metadata": {},
   "outputs": [
    {
     "data": {
      "text/plain": [
       "rest_number                                     6127\n",
       "rest_dma_code                                    555\n",
       "rest_dma_desc         SYRACUSE                      \n",
       "fiscal_year                                     2018\n",
       "fiscal_week_number                                13\n",
       "days_date                                  3/29/2018\n",
       "sales_ty                                     57748.2\n",
       "Name: 1128654, dtype: object"
      ]
     },
     "execution_count": 8,
     "metadata": {},
     "output_type": "execute_result"
    }
   ],
   "source": [
    "arg_sales.loc[arg_sales['sales_ty'].idxmax()]"
   ]
  },
  {
   "cell_type": "markdown",
   "metadata": {},
   "source": [
    "Display record with minimum *sales_ty* value"
   ]
  },
  {
   "cell_type": "code",
   "execution_count": 9,
   "metadata": {},
   "outputs": [
    {
     "data": {
      "text/plain": [
       "rest_number                                     6127\n",
       "rest_dma_code                                    555\n",
       "rest_dma_desc         SYRACUSE                      \n",
       "fiscal_year                                     2018\n",
       "fiscal_week_number                                13\n",
       "days_date                                   4/1/2018\n",
       "sales_ty                                    -54736.1\n",
       "Name: 1128657, dtype: object"
      ]
     },
     "execution_count": 9,
     "metadata": {},
     "output_type": "execute_result"
    }
   ],
   "source": [
    "arg_sales.loc[arg_sales['sales_ty'].idxmin()]"
   ]
  },
  {
   "cell_type": "markdown",
   "metadata": {},
   "source": [
    "**Note**: Both the extreme low and high values come from the same location during the same week. This may be the result of some type of register reconciliation but, without knowing exactly, we'll assume corruption at this store and remove its records even though if aggregated weekly, it will wash out."
   ]
  },
  {
   "cell_type": "markdown",
   "metadata": {},
   "source": [
    "Remove all sales records where *rest_number* is *6127*."
   ]
  },
  {
   "cell_type": "code",
   "execution_count": 10,
   "metadata": {},
   "outputs": [],
   "source": [
    "arg_sales = (arg_sales[arg_sales['rest_number'] != 6127]).reset_index(drop=True)"
   ]
  },
  {
   "cell_type": "code",
   "execution_count": 11,
   "metadata": {},
   "outputs": [
    {
     "data": {
      "text/html": [
       "<div>\n",
       "<style scoped>\n",
       "    .dataframe tbody tr th:only-of-type {\n",
       "        vertical-align: middle;\n",
       "    }\n",
       "\n",
       "    .dataframe tbody tr th {\n",
       "        vertical-align: top;\n",
       "    }\n",
       "\n",
       "    .dataframe thead th {\n",
       "        text-align: right;\n",
       "    }\n",
       "</style>\n",
       "<table border=\"1\" class=\"dataframe\">\n",
       "  <thead>\n",
       "    <tr style=\"text-align: right;\">\n",
       "      <th></th>\n",
       "      <th>count</th>\n",
       "      <th>mean</th>\n",
       "      <th>std</th>\n",
       "      <th>min</th>\n",
       "      <th>25%</th>\n",
       "      <th>50%</th>\n",
       "      <th>75%</th>\n",
       "      <th>max</th>\n",
       "    </tr>\n",
       "  </thead>\n",
       "  <tbody>\n",
       "    <tr>\n",
       "      <th>rest_number</th>\n",
       "      <td>1495371.0</td>\n",
       "      <td>4578.135055</td>\n",
       "      <td>2988.164584</td>\n",
       "      <td>1.00</td>\n",
       "      <td>1172.00</td>\n",
       "      <td>5817.00</td>\n",
       "      <td>7205.00</td>\n",
       "      <td>9002.00</td>\n",
       "    </tr>\n",
       "    <tr>\n",
       "      <th>rest_dma_code</th>\n",
       "      <td>1495371.0</td>\n",
       "      <td>565.142650</td>\n",
       "      <td>65.731402</td>\n",
       "      <td>501.00</td>\n",
       "      <td>518.00</td>\n",
       "      <td>536.00</td>\n",
       "      <td>613.00</td>\n",
       "      <td>819.00</td>\n",
       "    </tr>\n",
       "    <tr>\n",
       "      <th>fiscal_year</th>\n",
       "      <td>1495371.0</td>\n",
       "      <td>2016.564324</td>\n",
       "      <td>1.116485</td>\n",
       "      <td>2015.00</td>\n",
       "      <td>2016.00</td>\n",
       "      <td>2017.00</td>\n",
       "      <td>2018.00</td>\n",
       "      <td>2018.00</td>\n",
       "    </tr>\n",
       "    <tr>\n",
       "      <th>fiscal_week_number</th>\n",
       "      <td>1495371.0</td>\n",
       "      <td>26.765106</td>\n",
       "      <td>15.039339</td>\n",
       "      <td>1.00</td>\n",
       "      <td>14.00</td>\n",
       "      <td>27.00</td>\n",
       "      <td>40.00</td>\n",
       "      <td>53.00</td>\n",
       "    </tr>\n",
       "    <tr>\n",
       "      <th>sales_ty</th>\n",
       "      <td>1495371.0</td>\n",
       "      <td>3547.232146</td>\n",
       "      <td>1259.922024</td>\n",
       "      <td>-4579.63</td>\n",
       "      <td>2721.35</td>\n",
       "      <td>3442.26</td>\n",
       "      <td>4264.89</td>\n",
       "      <td>22540.26</td>\n",
       "    </tr>\n",
       "  </tbody>\n",
       "</table>\n",
       "</div>"
      ],
      "text/plain": [
       "                        count         mean          std      min      25%  \\\n",
       "rest_number         1495371.0  4578.135055  2988.164584     1.00  1172.00   \n",
       "rest_dma_code       1495371.0   565.142650    65.731402   501.00   518.00   \n",
       "fiscal_year         1495371.0  2016.564324     1.116485  2015.00  2016.00   \n",
       "fiscal_week_number  1495371.0    26.765106    15.039339     1.00    14.00   \n",
       "sales_ty            1495371.0  3547.232146  1259.922024 -4579.63  2721.35   \n",
       "\n",
       "                        50%      75%       max  \n",
       "rest_number         5817.00  7205.00   9002.00  \n",
       "rest_dma_code        536.00   613.00    819.00  \n",
       "fiscal_year         2017.00  2018.00   2018.00  \n",
       "fiscal_week_number    27.00    40.00     53.00  \n",
       "sales_ty            3442.26  4264.89  22540.26  "
      ]
     },
     "execution_count": 11,
     "metadata": {},
     "output_type": "execute_result"
    }
   ],
   "source": [
    "arg_sales.describe().transpose()"
   ]
  },
  {
   "cell_type": "markdown",
   "metadata": {},
   "source": [
    "**Note**: The daily sales values due still exhibit negative values, but they're no longer extreme. These will be assumed to be natural sales reconciliations and remain in the data."
   ]
  },
  {
   "cell_type": "markdown",
   "metadata": {},
   "source": [
    "### media_data"
   ]
  },
  {
   "cell_type": "markdown",
   "metadata": {},
   "source": [
    "The *media* DataFrame requires very little modification (i.e. column headers modified to lower case).\n",
    "\n",
    "The DataFrame is a general indication of whether a DMA had on-air media during a given period of time. This is indicated by a binary value and then further described by the degree of media as indicated via a TRP value."
   ]
  },
  {
   "cell_type": "code",
   "execution_count": 12,
   "metadata": {},
   "outputs": [],
   "source": [
    "media = pd.read_csv('case_study_media_data.csv')"
   ]
  },
  {
   "cell_type": "code",
   "execution_count": 13,
   "metadata": {},
   "outputs": [],
   "source": [
    "media.columns = map(str.lower, media.columns)"
   ]
  },
  {
   "cell_type": "code",
   "execution_count": 14,
   "metadata": {},
   "outputs": [
    {
     "data": {
      "text/html": [
       "<div>\n",
       "<style scoped>\n",
       "    .dataframe tbody tr th:only-of-type {\n",
       "        vertical-align: middle;\n",
       "    }\n",
       "\n",
       "    .dataframe tbody tr th {\n",
       "        vertical-align: top;\n",
       "    }\n",
       "\n",
       "    .dataframe thead th {\n",
       "        text-align: right;\n",
       "    }\n",
       "</style>\n",
       "<table border=\"1\" class=\"dataframe\">\n",
       "  <thead>\n",
       "    <tr style=\"text-align: right;\">\n",
       "      <th></th>\n",
       "      <th>rest_dma_code</th>\n",
       "      <th>fiscal_year</th>\n",
       "      <th>fiscal_week_number</th>\n",
       "      <th>onair_ty</th>\n",
       "      <th>equal_trps_cm_ty</th>\n",
       "    </tr>\n",
       "  </thead>\n",
       "  <tbody>\n",
       "    <tr>\n",
       "      <th>0</th>\n",
       "      <td>501</td>\n",
       "      <td>2015</td>\n",
       "      <td>1</td>\n",
       "      <td>0</td>\n",
       "      <td>0.0</td>\n",
       "    </tr>\n",
       "    <tr>\n",
       "      <th>1</th>\n",
       "      <td>501</td>\n",
       "      <td>2015</td>\n",
       "      <td>2</td>\n",
       "      <td>0</td>\n",
       "      <td>0.0</td>\n",
       "    </tr>\n",
       "    <tr>\n",
       "      <th>2</th>\n",
       "      <td>501</td>\n",
       "      <td>2015</td>\n",
       "      <td>3</td>\n",
       "      <td>0</td>\n",
       "      <td>0.0</td>\n",
       "    </tr>\n",
       "    <tr>\n",
       "      <th>3</th>\n",
       "      <td>501</td>\n",
       "      <td>2015</td>\n",
       "      <td>4</td>\n",
       "      <td>0</td>\n",
       "      <td>0.0</td>\n",
       "    </tr>\n",
       "    <tr>\n",
       "      <th>4</th>\n",
       "      <td>501</td>\n",
       "      <td>2015</td>\n",
       "      <td>5</td>\n",
       "      <td>0</td>\n",
       "      <td>0.0</td>\n",
       "    </tr>\n",
       "  </tbody>\n",
       "</table>\n",
       "</div>"
      ],
      "text/plain": [
       "   rest_dma_code  fiscal_year  fiscal_week_number  onair_ty  equal_trps_cm_ty\n",
       "0            501         2015                   1         0               0.0\n",
       "1            501         2015                   2         0               0.0\n",
       "2            501         2015                   3         0               0.0\n",
       "3            501         2015                   4         0               0.0\n",
       "4            501         2015                   5         0               0.0"
      ]
     },
     "execution_count": 14,
     "metadata": {},
     "output_type": "execute_result"
    }
   ],
   "source": [
    "media.head()"
   ]
  },
  {
   "cell_type": "code",
   "execution_count": 15,
   "metadata": {},
   "outputs": [
    {
     "name": "stdout",
     "output_type": "stream",
     "text": [
      "<class 'pandas.core.frame.DataFrame'>\n",
      "RangeIndex: 13728 entries, 0 to 13727\n",
      "Data columns (total 5 columns):\n",
      "rest_dma_code         13728 non-null int64\n",
      "fiscal_year           13728 non-null int64\n",
      "fiscal_week_number    13728 non-null int64\n",
      "onair_ty              13728 non-null int64\n",
      "equal_trps_cm_ty      13728 non-null float64\n",
      "dtypes: float64(1), int64(4)\n",
      "memory usage: 536.4 KB\n"
     ]
    }
   ],
   "source": [
    "media.info()"
   ]
  },
  {
   "cell_type": "code",
   "execution_count": 16,
   "metadata": {},
   "outputs": [
    {
     "data": {
      "text/html": [
       "<div>\n",
       "<style scoped>\n",
       "    .dataframe tbody tr th:only-of-type {\n",
       "        vertical-align: middle;\n",
       "    }\n",
       "\n",
       "    .dataframe tbody tr th {\n",
       "        vertical-align: top;\n",
       "    }\n",
       "\n",
       "    .dataframe thead th {\n",
       "        text-align: right;\n",
       "    }\n",
       "</style>\n",
       "<table border=\"1\" class=\"dataframe\">\n",
       "  <thead>\n",
       "    <tr style=\"text-align: right;\">\n",
       "      <th></th>\n",
       "      <th>count</th>\n",
       "      <th>mean</th>\n",
       "      <th>std</th>\n",
       "      <th>min</th>\n",
       "      <th>25%</th>\n",
       "      <th>50%</th>\n",
       "      <th>75%</th>\n",
       "      <th>max</th>\n",
       "    </tr>\n",
       "  </thead>\n",
       "  <tbody>\n",
       "    <tr>\n",
       "      <th>rest_dma_code</th>\n",
       "      <td>13728.0</td>\n",
       "      <td>572.227273</td>\n",
       "      <td>65.344787</td>\n",
       "      <td>501.0</td>\n",
       "      <td>525.00</td>\n",
       "      <td>550.50</td>\n",
       "      <td>596.00</td>\n",
       "      <td>770.0</td>\n",
       "    </tr>\n",
       "    <tr>\n",
       "      <th>fiscal_year</th>\n",
       "      <td>13728.0</td>\n",
       "      <td>2016.500000</td>\n",
       "      <td>1.118075</td>\n",
       "      <td>2015.0</td>\n",
       "      <td>2015.75</td>\n",
       "      <td>2016.50</td>\n",
       "      <td>2017.25</td>\n",
       "      <td>2018.0</td>\n",
       "    </tr>\n",
       "    <tr>\n",
       "      <th>fiscal_week_number</th>\n",
       "      <td>13728.0</td>\n",
       "      <td>26.500000</td>\n",
       "      <td>15.008878</td>\n",
       "      <td>1.0</td>\n",
       "      <td>13.75</td>\n",
       "      <td>26.50</td>\n",
       "      <td>39.25</td>\n",
       "      <td>52.0</td>\n",
       "    </tr>\n",
       "    <tr>\n",
       "      <th>onair_ty</th>\n",
       "      <td>13728.0</td>\n",
       "      <td>0.816725</td>\n",
       "      <td>0.386906</td>\n",
       "      <td>0.0</td>\n",
       "      <td>1.00</td>\n",
       "      <td>1.00</td>\n",
       "      <td>1.00</td>\n",
       "      <td>1.0</td>\n",
       "    </tr>\n",
       "    <tr>\n",
       "      <th>equal_trps_cm_ty</th>\n",
       "      <td>13728.0</td>\n",
       "      <td>148.256957</td>\n",
       "      <td>81.026854</td>\n",
       "      <td>0.0</td>\n",
       "      <td>96.40</td>\n",
       "      <td>155.65</td>\n",
       "      <td>199.80</td>\n",
       "      <td>536.3</td>\n",
       "    </tr>\n",
       "  </tbody>\n",
       "</table>\n",
       "</div>"
      ],
      "text/plain": [
       "                      count         mean        std     min      25%      50%  \\\n",
       "rest_dma_code       13728.0   572.227273  65.344787   501.0   525.00   550.50   \n",
       "fiscal_year         13728.0  2016.500000   1.118075  2015.0  2015.75  2016.50   \n",
       "fiscal_week_number  13728.0    26.500000  15.008878     1.0    13.75    26.50   \n",
       "onair_ty            13728.0     0.816725   0.386906     0.0     1.00     1.00   \n",
       "equal_trps_cm_ty    13728.0   148.256957  81.026854     0.0    96.40   155.65   \n",
       "\n",
       "                        75%     max  \n",
       "rest_dma_code        596.00   770.0  \n",
       "fiscal_year         2017.25  2018.0  \n",
       "fiscal_week_number    39.25    52.0  \n",
       "onair_ty               1.00     1.0  \n",
       "equal_trps_cm_ty     199.80   536.3  "
      ]
     },
     "execution_count": 16,
     "metadata": {},
     "output_type": "execute_result"
    }
   ],
   "source": [
    "media.describe().transpose()"
   ]
  },
  {
   "cell_type": "markdown",
   "metadata": {},
   "source": [
    "### competitive"
   ]
  },
  {
   "cell_type": "markdown",
   "metadata": {},
   "source": [
    "The *competitive* DataFrame holds values of store counts for (5) perceived competitors within a one-mile and half-mile radius.\n",
    "\n",
    "The following measures were taken in the processing of the data:\n",
    "\n",
    "1. The CSV was read and stored in a DataFrame\n",
    "2. Column headers were renamed\n",
    "3. Integrity check to ensure the half-mile competitor count is never higher than 1-mile competitor count"
   ]
  },
  {
   "cell_type": "code",
   "execution_count": 17,
   "metadata": {},
   "outputs": [],
   "source": [
    "competitive = pd.read_csv('competitive_data.csv')"
   ]
  },
  {
   "cell_type": "code",
   "execution_count": 18,
   "metadata": {},
   "outputs": [],
   "source": [
    "competitive = competitive.rename(columns={'Store #':'store',\n",
    "                                          '# of McDonalds <1 mi':'mcd_1_mi',\n",
    "                                          '# of Subway <1 mi':'subway_1_mi',\n",
    "                                          '# of Wendys <1 mi':'wendys_1_mi',\n",
    "                                          '# of Burger King <1 mi':'bk_1_mi',\n",
    "                                          '# of Taco Bell <1 mi':'tb_1_mi',\n",
    "                                          '# of McDonalds <0.5 mi':'mcd_hlf_mi',\n",
    "                                          '# of Subway <0.5 mi':'subway_hlf_mi',\n",
    "                                          '# of Wendys <0.5 mi':'wendys_hlf_mi',\n",
    "                                          '# of Burger King <0.5 mi':'bk_hlf_mi',\n",
    "                                          '# of Taco Bell <0.5 mi':'tb_hlf_mi'})"
   ]
  },
  {
   "cell_type": "code",
   "execution_count": 19,
   "metadata": {},
   "outputs": [
    {
     "data": {
      "text/html": [
       "<div>\n",
       "<style scoped>\n",
       "    .dataframe tbody tr th:only-of-type {\n",
       "        vertical-align: middle;\n",
       "    }\n",
       "\n",
       "    .dataframe tbody tr th {\n",
       "        vertical-align: top;\n",
       "    }\n",
       "\n",
       "    .dataframe thead th {\n",
       "        text-align: right;\n",
       "    }\n",
       "</style>\n",
       "<table border=\"1\" class=\"dataframe\">\n",
       "  <thead>\n",
       "    <tr style=\"text-align: right;\">\n",
       "      <th></th>\n",
       "      <th>store</th>\n",
       "      <th>mcd_1_mi</th>\n",
       "      <th>subway_1_mi</th>\n",
       "      <th>wendys_1_mi</th>\n",
       "      <th>bk_1_mi</th>\n",
       "      <th>tb_1_mi</th>\n",
       "      <th>mcd_hlf_mi</th>\n",
       "      <th>subway_hlf_mi</th>\n",
       "      <th>wendys_hlf_mi</th>\n",
       "      <th>bk_hlf_mi</th>\n",
       "      <th>tb_hlf_mi</th>\n",
       "    </tr>\n",
       "  </thead>\n",
       "  <tbody>\n",
       "    <tr>\n",
       "      <th>0</th>\n",
       "      <td>5938</td>\n",
       "      <td>0</td>\n",
       "      <td>0</td>\n",
       "      <td>0</td>\n",
       "      <td>0</td>\n",
       "      <td>0</td>\n",
       "      <td>0</td>\n",
       "      <td>0</td>\n",
       "      <td>0</td>\n",
       "      <td>0</td>\n",
       "      <td>0</td>\n",
       "    </tr>\n",
       "    <tr>\n",
       "      <th>1</th>\n",
       "      <td>6394</td>\n",
       "      <td>0</td>\n",
       "      <td>0</td>\n",
       "      <td>1</td>\n",
       "      <td>1</td>\n",
       "      <td>0</td>\n",
       "      <td>0</td>\n",
       "      <td>0</td>\n",
       "      <td>1</td>\n",
       "      <td>1</td>\n",
       "      <td>0</td>\n",
       "    </tr>\n",
       "    <tr>\n",
       "      <th>2</th>\n",
       "      <td>7724</td>\n",
       "      <td>1</td>\n",
       "      <td>2</td>\n",
       "      <td>0</td>\n",
       "      <td>0</td>\n",
       "      <td>0</td>\n",
       "      <td>1</td>\n",
       "      <td>2</td>\n",
       "      <td>0</td>\n",
       "      <td>0</td>\n",
       "      <td>0</td>\n",
       "    </tr>\n",
       "    <tr>\n",
       "      <th>3</th>\n",
       "      <td>6204</td>\n",
       "      <td>1</td>\n",
       "      <td>1</td>\n",
       "      <td>1</td>\n",
       "      <td>1</td>\n",
       "      <td>1</td>\n",
       "      <td>0</td>\n",
       "      <td>1</td>\n",
       "      <td>0</td>\n",
       "      <td>1</td>\n",
       "      <td>0</td>\n",
       "    </tr>\n",
       "    <tr>\n",
       "      <th>4</th>\n",
       "      <td>6830</td>\n",
       "      <td>1</td>\n",
       "      <td>2</td>\n",
       "      <td>1</td>\n",
       "      <td>1</td>\n",
       "      <td>1</td>\n",
       "      <td>1</td>\n",
       "      <td>1</td>\n",
       "      <td>1</td>\n",
       "      <td>1</td>\n",
       "      <td>1</td>\n",
       "    </tr>\n",
       "  </tbody>\n",
       "</table>\n",
       "</div>"
      ],
      "text/plain": [
       "   store  mcd_1_mi  subway_1_mi  wendys_1_mi  bk_1_mi  tb_1_mi  mcd_hlf_mi  \\\n",
       "0   5938         0            0            0        0        0           0   \n",
       "1   6394         0            0            1        1        0           0   \n",
       "2   7724         1            2            0        0        0           1   \n",
       "3   6204         1            1            1        1        1           0   \n",
       "4   6830         1            2            1        1        1           1   \n",
       "\n",
       "   subway_hlf_mi  wendys_hlf_mi  bk_hlf_mi  tb_hlf_mi  \n",
       "0              0              0          0          0  \n",
       "1              0              1          1          0  \n",
       "2              2              0          0          0  \n",
       "3              1              0          1          0  \n",
       "4              1              1          1          1  "
      ]
     },
     "execution_count": 19,
     "metadata": {},
     "output_type": "execute_result"
    }
   ],
   "source": [
    "competitive.head()"
   ]
  },
  {
   "cell_type": "code",
   "execution_count": 20,
   "metadata": {},
   "outputs": [
    {
     "name": "stdout",
     "output_type": "stream",
     "text": [
      "<class 'pandas.core.frame.DataFrame'>\n",
      "RangeIndex: 2183 entries, 0 to 2182\n",
      "Data columns (total 11 columns):\n",
      "store            2183 non-null int64\n",
      "mcd_1_mi         2183 non-null int64\n",
      "subway_1_mi      2183 non-null int64\n",
      "wendys_1_mi      2183 non-null int64\n",
      "bk_1_mi          2183 non-null int64\n",
      "tb_1_mi          2183 non-null int64\n",
      "mcd_hlf_mi       2183 non-null int64\n",
      "subway_hlf_mi    2183 non-null int64\n",
      "wendys_hlf_mi    2183 non-null int64\n",
      "bk_hlf_mi        2183 non-null int64\n",
      "tb_hlf_mi        2183 non-null int64\n",
      "dtypes: int64(11)\n",
      "memory usage: 187.7 KB\n"
     ]
    }
   ],
   "source": [
    "competitive.info()"
   ]
  },
  {
   "cell_type": "markdown",
   "metadata": {},
   "source": [
    "### restaurant"
   ]
  },
  {
   "cell_type": "markdown",
   "metadata": {},
   "source": [
    "The *restaurant* data set is a basic store profile with status, relative location, open, remodel, and closure dates where applicable.\n",
    "\n",
    "Items to consider:\n",
    "\n",
    "- Multiple stores have a null value for *rest_addrstate*. This indicates there is no known state assigned to the store.\n",
    "- The SQL database from which these data were exported imputed SQL's minimum date value (1753-01-01) for null date values.\n",
    "\n",
    "The follow measures were taken in the processing of the *restaurant* data:\n",
    "\n",
    "1. The CSV was read and stored in a DataFrame\n",
    "2. Column headers were converted to lower case\n",
    "3. *rest_remodeldt* was converted from an integer to date object\n",
    "4. Date objects were converted to a uniform MM/DD/YYYY\n",
    "5. If a minimum date type were presented, it was replaced with *None* type\n",
    "6. *rest_number* was converted from a float to integer value"
   ]
  },
  {
   "cell_type": "code",
   "execution_count": 21,
   "metadata": {},
   "outputs": [],
   "source": [
    "restaurant = pd.read_csv('restaurant.csv')"
   ]
  },
  {
   "cell_type": "code",
   "execution_count": 22,
   "metadata": {},
   "outputs": [],
   "source": [
    "restaurant.columns = map(str.lower, restaurant.columns)"
   ]
  },
  {
   "cell_type": "code",
   "execution_count": 23,
   "metadata": {},
   "outputs": [
    {
     "data": {
      "text/html": [
       "<div>\n",
       "<style scoped>\n",
       "    .dataframe tbody tr th:only-of-type {\n",
       "        vertical-align: middle;\n",
       "    }\n",
       "\n",
       "    .dataframe tbody tr th {\n",
       "        vertical-align: top;\n",
       "    }\n",
       "\n",
       "    .dataframe thead th {\n",
       "        text-align: right;\n",
       "    }\n",
       "</style>\n",
       "<table border=\"1\" class=\"dataframe\">\n",
       "  <thead>\n",
       "    <tr style=\"text-align: right;\">\n",
       "      <th></th>\n",
       "      <th>rest_number</th>\n",
       "      <th>rest_status</th>\n",
       "      <th>rest_addrstate</th>\n",
       "      <th>rest_remodeldt</th>\n",
       "      <th>rest_opendate</th>\n",
       "      <th>rest_closedate</th>\n",
       "    </tr>\n",
       "  </thead>\n",
       "  <tbody>\n",
       "    <tr>\n",
       "      <th>0</th>\n",
       "      <td>776.0</td>\n",
       "      <td>Open</td>\n",
       "      <td>IN</td>\n",
       "      <td>17530101</td>\n",
       "      <td>6/14/1976</td>\n",
       "      <td>1753-01-01</td>\n",
       "    </tr>\n",
       "    <tr>\n",
       "      <th>1</th>\n",
       "      <td>791.0</td>\n",
       "      <td>Open</td>\n",
       "      <td>NC</td>\n",
       "      <td>20081209</td>\n",
       "      <td>3/15/1977</td>\n",
       "      <td>1753-01-01</td>\n",
       "    </tr>\n",
       "    <tr>\n",
       "      <th>2</th>\n",
       "      <td>808.0</td>\n",
       "      <td>Open</td>\n",
       "      <td>CA</td>\n",
       "      <td>20181006</td>\n",
       "      <td>11/29/1975</td>\n",
       "      <td>1753-01-01</td>\n",
       "    </tr>\n",
       "    <tr>\n",
       "      <th>3</th>\n",
       "      <td>822.0</td>\n",
       "      <td>Open</td>\n",
       "      <td>NE</td>\n",
       "      <td>20180517</td>\n",
       "      <td>2/16/1976</td>\n",
       "      <td>1753-01-01</td>\n",
       "    </tr>\n",
       "    <tr>\n",
       "      <th>4</th>\n",
       "      <td>841.0</td>\n",
       "      <td>Open</td>\n",
       "      <td>FL</td>\n",
       "      <td>19990301</td>\n",
       "      <td>1/14/1978</td>\n",
       "      <td>1753-01-01</td>\n",
       "    </tr>\n",
       "  </tbody>\n",
       "</table>\n",
       "</div>"
      ],
      "text/plain": [
       "   rest_number rest_status rest_addrstate  rest_remodeldt rest_opendate  \\\n",
       "0        776.0        Open             IN        17530101     6/14/1976   \n",
       "1        791.0        Open             NC        20081209     3/15/1977   \n",
       "2        808.0        Open             CA        20181006    11/29/1975   \n",
       "3        822.0        Open             NE        20180517     2/16/1976   \n",
       "4        841.0        Open             FL        19990301     1/14/1978   \n",
       "\n",
       "  rest_closedate  \n",
       "0     1753-01-01  \n",
       "1     1753-01-01  \n",
       "2     1753-01-01  \n",
       "3     1753-01-01  \n",
       "4     1753-01-01  "
      ]
     },
     "execution_count": 23,
     "metadata": {},
     "output_type": "execute_result"
    }
   ],
   "source": [
    "restaurant.head()"
   ]
  },
  {
   "cell_type": "code",
   "execution_count": 24,
   "metadata": {},
   "outputs": [
    {
     "name": "stdout",
     "output_type": "stream",
     "text": [
      "<class 'pandas.core.frame.DataFrame'>\n",
      "RangeIndex: 5355 entries, 0 to 5354\n",
      "Data columns (total 6 columns):\n",
      "rest_number       5354 non-null float64\n",
      "rest_status       5354 non-null object\n",
      "rest_addrstate    4887 non-null object\n",
      "rest_remodeldt    5355 non-null int64\n",
      "rest_opendate     5355 non-null object\n",
      "rest_closedate    5355 non-null object\n",
      "dtypes: float64(1), int64(1), object(4)\n",
      "memory usage: 251.1+ KB\n"
     ]
    }
   ],
   "source": [
    "restaurant.info()"
   ]
  },
  {
   "cell_type": "markdown",
   "metadata": {},
   "source": [
    "Date values should be converted to a uniform type."
   ]
  },
  {
   "cell_type": "code",
   "execution_count": 25,
   "metadata": {},
   "outputs": [],
   "source": [
    "restaurant['rest_remodeldt'] = pd.to_datetime(restaurant['rest_remodeldt'].astype(str), format='%Y%m%d')"
   ]
  },
  {
   "cell_type": "markdown",
   "metadata": {},
   "source": [
    "**Note**: The *rest_remodeldt* must be converted to a date object from an integer."
   ]
  },
  {
   "cell_type": "code",
   "execution_count": 26,
   "metadata": {},
   "outputs": [],
   "source": [
    "for i in ['rest_remodeldt', 'rest_closedate', 'rest_opendate']:\n",
    "    restaurant[i] = pd.to_datetime(restaurant[i]).dt.strftime('%m/%d/%Y')\n",
    "\n",
    "for i in ['rest_remodeldt', 'rest_closedate']:\n",
    "    restaurant.loc[restaurant[i] == '01/01/1753', i] = None"
   ]
  },
  {
   "cell_type": "markdown",
   "metadata": {},
   "source": [
    "**Note**: When the CSV files were exported from the SQL database they were stored in, the null values carried the database's native, minimum date value with them (1753-01-01). This portion removes those values."
   ]
  },
  {
   "cell_type": "code",
   "execution_count": 27,
   "metadata": {},
   "outputs": [],
   "source": [
    "restaurant['rest_number'] = restaurant['rest_number'].astype('Int64')"
   ]
  },
  {
   "cell_type": "markdown",
   "metadata": {},
   "source": [
    "**Note**: The *rest_value* number should be converted to an integer for uniformity."
   ]
  },
  {
   "cell_type": "code",
   "execution_count": 28,
   "metadata": {},
   "outputs": [
    {
     "data": {
      "text/html": [
       "<div>\n",
       "<style scoped>\n",
       "    .dataframe tbody tr th:only-of-type {\n",
       "        vertical-align: middle;\n",
       "    }\n",
       "\n",
       "    .dataframe tbody tr th {\n",
       "        vertical-align: top;\n",
       "    }\n",
       "\n",
       "    .dataframe thead th {\n",
       "        text-align: right;\n",
       "    }\n",
       "</style>\n",
       "<table border=\"1\" class=\"dataframe\">\n",
       "  <thead>\n",
       "    <tr style=\"text-align: right;\">\n",
       "      <th></th>\n",
       "      <th>rest_number</th>\n",
       "      <th>rest_status</th>\n",
       "      <th>rest_addrstate</th>\n",
       "      <th>rest_remodeldt</th>\n",
       "      <th>rest_opendate</th>\n",
       "      <th>rest_closedate</th>\n",
       "    </tr>\n",
       "  </thead>\n",
       "  <tbody>\n",
       "    <tr>\n",
       "      <th>0</th>\n",
       "      <td>776</td>\n",
       "      <td>Open</td>\n",
       "      <td>IN</td>\n",
       "      <td>None</td>\n",
       "      <td>06/14/1976</td>\n",
       "      <td>None</td>\n",
       "    </tr>\n",
       "    <tr>\n",
       "      <th>1</th>\n",
       "      <td>791</td>\n",
       "      <td>Open</td>\n",
       "      <td>NC</td>\n",
       "      <td>12/09/2008</td>\n",
       "      <td>03/15/1977</td>\n",
       "      <td>None</td>\n",
       "    </tr>\n",
       "    <tr>\n",
       "      <th>2</th>\n",
       "      <td>808</td>\n",
       "      <td>Open</td>\n",
       "      <td>CA</td>\n",
       "      <td>10/06/2018</td>\n",
       "      <td>11/29/1975</td>\n",
       "      <td>None</td>\n",
       "    </tr>\n",
       "    <tr>\n",
       "      <th>3</th>\n",
       "      <td>822</td>\n",
       "      <td>Open</td>\n",
       "      <td>NE</td>\n",
       "      <td>05/17/2018</td>\n",
       "      <td>02/16/1976</td>\n",
       "      <td>None</td>\n",
       "    </tr>\n",
       "    <tr>\n",
       "      <th>4</th>\n",
       "      <td>841</td>\n",
       "      <td>Open</td>\n",
       "      <td>FL</td>\n",
       "      <td>03/01/1999</td>\n",
       "      <td>01/14/1978</td>\n",
       "      <td>None</td>\n",
       "    </tr>\n",
       "  </tbody>\n",
       "</table>\n",
       "</div>"
      ],
      "text/plain": [
       "   rest_number rest_status rest_addrstate rest_remodeldt rest_opendate  \\\n",
       "0          776        Open             IN           None    06/14/1976   \n",
       "1          791        Open             NC     12/09/2008    03/15/1977   \n",
       "2          808        Open             CA     10/06/2018    11/29/1975   \n",
       "3          822        Open             NE     05/17/2018    02/16/1976   \n",
       "4          841        Open             FL     03/01/1999    01/14/1978   \n",
       "\n",
       "  rest_closedate  \n",
       "0           None  \n",
       "1           None  \n",
       "2           None  \n",
       "3           None  \n",
       "4           None  "
      ]
     },
     "execution_count": 28,
     "metadata": {},
     "output_type": "execute_result"
    }
   ],
   "source": [
    "restaurant.head()"
   ]
  },
  {
   "cell_type": "code",
   "execution_count": 29,
   "metadata": {},
   "outputs": [
    {
     "name": "stdout",
     "output_type": "stream",
     "text": [
      "<class 'pandas.core.frame.DataFrame'>\n",
      "RangeIndex: 5355 entries, 0 to 5354\n",
      "Data columns (total 6 columns):\n",
      "rest_number       5354 non-null Int64\n",
      "rest_status       5354 non-null object\n",
      "rest_addrstate    4887 non-null object\n",
      "rest_remodeldt    1879 non-null object\n",
      "rest_opendate     5355 non-null object\n",
      "rest_closedate    1808 non-null object\n",
      "dtypes: Int64(1), object(5)\n",
      "memory usage: 256.4+ KB\n"
     ]
    }
   ],
   "source": [
    "restaurant.info()"
   ]
  },
  {
   "cell_type": "markdown",
   "metadata": {},
   "source": [
    "### store_print"
   ]
  },
  {
   "cell_type": "markdown",
   "metadata": {},
   "source": [
    "This dataset required no processing aside from reading and storing in a DataFrame.\n",
    "\n",
    "What the values represent is not entirely clear."
   ]
  },
  {
   "cell_type": "code",
   "execution_count": 30,
   "metadata": {},
   "outputs": [],
   "source": [
    "store_print = pd.read_csv('store_print_info.csv')"
   ]
  },
  {
   "cell_type": "code",
   "execution_count": 31,
   "metadata": {},
   "outputs": [
    {
     "data": {
      "text/html": [
       "<div>\n",
       "<style scoped>\n",
       "    .dataframe tbody tr th:only-of-type {\n",
       "        vertical-align: middle;\n",
       "    }\n",
       "\n",
       "    .dataframe tbody tr th {\n",
       "        vertical-align: top;\n",
       "    }\n",
       "\n",
       "    .dataframe thead th {\n",
       "        text-align: right;\n",
       "    }\n",
       "</style>\n",
       "<table border=\"1\" class=\"dataframe\">\n",
       "  <thead>\n",
       "    <tr style=\"text-align: right;\">\n",
       "      <th></th>\n",
       "      <th>rest_number</th>\n",
       "      <th>drop_date</th>\n",
       "      <th>fiscal_year</th>\n",
       "      <th>fiscal_week_number</th>\n",
       "    </tr>\n",
       "  </thead>\n",
       "  <tbody>\n",
       "    <tr>\n",
       "      <th>0</th>\n",
       "      <td>10</td>\n",
       "      <td>3/24/2015</td>\n",
       "      <td>2015</td>\n",
       "      <td>13</td>\n",
       "    </tr>\n",
       "    <tr>\n",
       "      <th>1</th>\n",
       "      <td>1</td>\n",
       "      <td>3/24/2015</td>\n",
       "      <td>2015</td>\n",
       "      <td>13</td>\n",
       "    </tr>\n",
       "    <tr>\n",
       "      <th>2</th>\n",
       "      <td>86</td>\n",
       "      <td>3/24/2015</td>\n",
       "      <td>2015</td>\n",
       "      <td>13</td>\n",
       "    </tr>\n",
       "    <tr>\n",
       "      <th>3</th>\n",
       "      <td>228</td>\n",
       "      <td>9/29/2015</td>\n",
       "      <td>2015</td>\n",
       "      <td>40</td>\n",
       "    </tr>\n",
       "    <tr>\n",
       "      <th>4</th>\n",
       "      <td>85</td>\n",
       "      <td>3/24/2015</td>\n",
       "      <td>2015</td>\n",
       "      <td>13</td>\n",
       "    </tr>\n",
       "  </tbody>\n",
       "</table>\n",
       "</div>"
      ],
      "text/plain": [
       "   rest_number  drop_date  fiscal_year  fiscal_week_number\n",
       "0           10  3/24/2015         2015                  13\n",
       "1            1  3/24/2015         2015                  13\n",
       "2           86  3/24/2015         2015                  13\n",
       "3          228  9/29/2015         2015                  40\n",
       "4           85  3/24/2015         2015                  13"
      ]
     },
     "execution_count": 31,
     "metadata": {},
     "output_type": "execute_result"
    }
   ],
   "source": [
    "store_print.head()"
   ]
  },
  {
   "cell_type": "code",
   "execution_count": 32,
   "metadata": {},
   "outputs": [
    {
     "name": "stdout",
     "output_type": "stream",
     "text": [
      "<class 'pandas.core.frame.DataFrame'>\n",
      "RangeIndex: 40380 entries, 0 to 40379\n",
      "Data columns (total 4 columns):\n",
      "rest_number           40380 non-null int64\n",
      "drop_date             40380 non-null object\n",
      "fiscal_year           40380 non-null int64\n",
      "fiscal_week_number    40380 non-null int64\n",
      "dtypes: int64(3), object(1)\n",
      "memory usage: 1.2+ MB\n"
     ]
    }
   ],
   "source": [
    "store_print.info()"
   ]
  },
  {
   "cell_type": "markdown",
   "metadata": {},
   "source": [
    "### weather"
   ]
  },
  {
   "cell_type": "markdown",
   "metadata": {},
   "source": [
    "\n",
    "\n",
    "The values for snow, thunderstorm, rain, and clear_weather are boolean indicating the presence of each. There is no measurement to the degree of that presence."
   ]
  },
  {
   "cell_type": "markdown",
   "metadata": {},
   "source": [
    "The first three datasets (weather_2015, weather_2016, and weather_2017) have matching columns and data types. The fourth dataset (weather_2018) has matching columns but mismatched data types for some columns.\n",
    "\n",
    "The weather_2018 dataset must have matching datatypes before being appended to the other three."
   ]
  },
  {
   "cell_type": "code",
   "execution_count": 33,
   "metadata": {},
   "outputs": [],
   "source": [
    "weather = pd.concat(map(pd.read_csv, ['weather_2015.csv', 'weather_2016.csv', 'weather_2017.csv']))\n",
    "weather.columns = map(str.lower, weather.columns)\n",
    "for i in ['rest_number', 'rest_dma_code', 'snow', 'thunderstorm', 'rain', 'clear_weather']:\n",
    "    weather[i] = weather[i].astype('Int64')\n",
    "\n",
    "wr_2018 = pd.read_csv('weather_2018.csv')\n",
    "wr_2018.columns = map(str.lower, wr_2018.columns)\n",
    "\n",
    "for i in ['rest_number', 'rest_dma_code', 'snow', 'thunderstorm', 'rain', 'clear_weather']:\n",
    "    wr_2018[i] = wr_2018[i].astype('Int64')"
   ]
  },
  {
   "cell_type": "code",
   "execution_count": 34,
   "metadata": {},
   "outputs": [],
   "source": [
    "weather = wr_2018.append(weather, ignore_index=True, sort=False)\n",
    "weather = weather.reset_index(drop=True)"
   ]
  },
  {
   "cell_type": "code",
   "execution_count": 35,
   "metadata": {},
   "outputs": [
    {
     "data": {
      "text/html": [
       "<div>\n",
       "<style scoped>\n",
       "    .dataframe tbody tr th:only-of-type {\n",
       "        vertical-align: middle;\n",
       "    }\n",
       "\n",
       "    .dataframe tbody tr th {\n",
       "        vertical-align: top;\n",
       "    }\n",
       "\n",
       "    .dataframe thead th {\n",
       "        text-align: right;\n",
       "    }\n",
       "</style>\n",
       "<table border=\"1\" class=\"dataframe\">\n",
       "  <thead>\n",
       "    <tr style=\"text-align: right;\">\n",
       "      <th></th>\n",
       "      <th>rest_number</th>\n",
       "      <th>rest_dma_code</th>\n",
       "      <th>rest_dma_desc</th>\n",
       "      <th>date_ty</th>\n",
       "      <th>temp_avg</th>\n",
       "      <th>temp_max</th>\n",
       "      <th>temp_min</th>\n",
       "      <th>thunderstorm_bucket</th>\n",
       "      <th>rain_bucket</th>\n",
       "      <th>snow_bucket</th>\n",
       "      <th>snow</th>\n",
       "      <th>thunderstorm</th>\n",
       "      <th>rain</th>\n",
       "      <th>clear_weather</th>\n",
       "    </tr>\n",
       "  </thead>\n",
       "  <tbody>\n",
       "    <tr>\n",
       "      <th>0</th>\n",
       "      <td>1</td>\n",
       "      <td>536</td>\n",
       "      <td>YOUNGSTOWN</td>\n",
       "      <td>1/14/2018</td>\n",
       "      <td>9.872857</td>\n",
       "      <td>24.53</td>\n",
       "      <td>-9.67</td>\n",
       "      <td>NaN</td>\n",
       "      <td>NaN</td>\n",
       "      <td>NaN</td>\n",
       "      <td>0</td>\n",
       "      <td>0</td>\n",
       "      <td>0</td>\n",
       "      <td>1</td>\n",
       "    </tr>\n",
       "    <tr>\n",
       "      <th>1</th>\n",
       "      <td>1</td>\n",
       "      <td>536</td>\n",
       "      <td>YOUNGSTOWN</td>\n",
       "      <td>3/26/2018</td>\n",
       "      <td>42.015714</td>\n",
       "      <td>53.33</td>\n",
       "      <td>28.13</td>\n",
       "      <td>NaN</td>\n",
       "      <td>NaN</td>\n",
       "      <td>NaN</td>\n",
       "      <td>0</td>\n",
       "      <td>0</td>\n",
       "      <td>0</td>\n",
       "      <td>1</td>\n",
       "    </tr>\n",
       "    <tr>\n",
       "      <th>2</th>\n",
       "      <td>1</td>\n",
       "      <td>536</td>\n",
       "      <td>YOUNGSTOWN</td>\n",
       "      <td>3/7/2018</td>\n",
       "      <td>35.072857</td>\n",
       "      <td>40.73</td>\n",
       "      <td>29.93</td>\n",
       "      <td>NaN</td>\n",
       "      <td>mild</td>\n",
       "      <td>moderate</td>\n",
       "      <td>1</td>\n",
       "      <td>0</td>\n",
       "      <td>1</td>\n",
       "      <td>0</td>\n",
       "    </tr>\n",
       "    <tr>\n",
       "      <th>3</th>\n",
       "      <td>1</td>\n",
       "      <td>536</td>\n",
       "      <td>YOUNGSTOWN</td>\n",
       "      <td>5/11/2018</td>\n",
       "      <td>51.787142</td>\n",
       "      <td>58.73</td>\n",
       "      <td>42.53</td>\n",
       "      <td>NaN</td>\n",
       "      <td>mild</td>\n",
       "      <td>NaN</td>\n",
       "      <td>0</td>\n",
       "      <td>0</td>\n",
       "      <td>1</td>\n",
       "      <td>0</td>\n",
       "    </tr>\n",
       "    <tr>\n",
       "      <th>4</th>\n",
       "      <td>1</td>\n",
       "      <td>536</td>\n",
       "      <td>YOUNGSTOWN</td>\n",
       "      <td>2/24/2018</td>\n",
       "      <td>42.658571</td>\n",
       "      <td>47.93</td>\n",
       "      <td>37.13</td>\n",
       "      <td>NaN</td>\n",
       "      <td>moderate</td>\n",
       "      <td>NaN</td>\n",
       "      <td>0</td>\n",
       "      <td>0</td>\n",
       "      <td>1</td>\n",
       "      <td>0</td>\n",
       "    </tr>\n",
       "  </tbody>\n",
       "</table>\n",
       "</div>"
      ],
      "text/plain": [
       "   rest_number  rest_dma_code                   rest_dma_desc    date_ty  \\\n",
       "0            1            536  YOUNGSTOWN                      1/14/2018   \n",
       "1            1            536  YOUNGSTOWN                      3/26/2018   \n",
       "2            1            536  YOUNGSTOWN                       3/7/2018   \n",
       "3            1            536  YOUNGSTOWN                      5/11/2018   \n",
       "4            1            536  YOUNGSTOWN                      2/24/2018   \n",
       "\n",
       "    temp_avg  temp_max  temp_min thunderstorm_bucket rain_bucket snow_bucket  \\\n",
       "0   9.872857     24.53     -9.67                 NaN         NaN         NaN   \n",
       "1  42.015714     53.33     28.13                 NaN         NaN         NaN   \n",
       "2  35.072857     40.73     29.93                 NaN        mild    moderate   \n",
       "3  51.787142     58.73     42.53                 NaN        mild         NaN   \n",
       "4  42.658571     47.93     37.13                 NaN    moderate         NaN   \n",
       "\n",
       "   snow  thunderstorm  rain  clear_weather  \n",
       "0     0             0     0              1  \n",
       "1     0             0     0              1  \n",
       "2     1             0     1              0  \n",
       "3     0             0     1              0  \n",
       "4     0             0     1              0  "
      ]
     },
     "execution_count": 35,
     "metadata": {},
     "output_type": "execute_result"
    }
   ],
   "source": [
    "weather.head()"
   ]
  },
  {
   "cell_type": "code",
   "execution_count": 36,
   "metadata": {},
   "outputs": [
    {
     "name": "stdout",
     "output_type": "stream",
     "text": [
      "<class 'pandas.core.frame.DataFrame'>\n",
      "RangeIndex: 1678689 entries, 0 to 1678688\n",
      "Data columns (total 14 columns):\n",
      "rest_number            1645006 non-null Int64\n",
      "rest_dma_code          1645006 non-null Int64\n",
      "rest_dma_desc          1645006 non-null object\n",
      "date_ty                1645006 non-null object\n",
      "temp_avg               1645006 non-null float64\n",
      "temp_max               1645006 non-null float64\n",
      "temp_min               1645006 non-null float64\n",
      "thunderstorm_bucket    175039 non-null object\n",
      "rain_bucket            675064 non-null object\n",
      "snow_bucket            150291 non-null object\n",
      "snow                   1645006 non-null Int64\n",
      "thunderstorm           1645006 non-null Int64\n",
      "rain                   1645006 non-null Int64\n",
      "clear_weather          1645006 non-null Int64\n",
      "dtypes: Int64(6), float64(3), object(5)\n",
      "memory usage: 188.9+ MB\n"
     ]
    }
   ],
   "source": [
    "weather.info()"
   ]
  },
  {
   "cell_type": "code",
   "execution_count": 37,
   "metadata": {},
   "outputs": [
    {
     "data": {
      "text/html": [
       "<div>\n",
       "<style scoped>\n",
       "    .dataframe tbody tr th:only-of-type {\n",
       "        vertical-align: middle;\n",
       "    }\n",
       "\n",
       "    .dataframe tbody tr th {\n",
       "        vertical-align: top;\n",
       "    }\n",
       "\n",
       "    .dataframe thead th {\n",
       "        text-align: right;\n",
       "    }\n",
       "</style>\n",
       "<table border=\"1\" class=\"dataframe\">\n",
       "  <thead>\n",
       "    <tr style=\"text-align: right;\">\n",
       "      <th></th>\n",
       "      <th>count</th>\n",
       "      <th>mean</th>\n",
       "      <th>std</th>\n",
       "      <th>min</th>\n",
       "      <th>25%</th>\n",
       "      <th>50%</th>\n",
       "      <th>75%</th>\n",
       "      <th>max</th>\n",
       "    </tr>\n",
       "  </thead>\n",
       "  <tbody>\n",
       "    <tr>\n",
       "      <th>rest_number</th>\n",
       "      <td>1645006.0</td>\n",
       "      <td>4707.706301</td>\n",
       "      <td>2999.923875</td>\n",
       "      <td>1.000000</td>\n",
       "      <td>1211.000000</td>\n",
       "      <td>5934.000000</td>\n",
       "      <td>7317.00</td>\n",
       "      <td>9002.00</td>\n",
       "    </tr>\n",
       "    <tr>\n",
       "      <th>rest_dma_code</th>\n",
       "      <td>1645006.0</td>\n",
       "      <td>563.754927</td>\n",
       "      <td>63.872583</td>\n",
       "      <td>501.000000</td>\n",
       "      <td>518.000000</td>\n",
       "      <td>538.000000</td>\n",
       "      <td>588.00</td>\n",
       "      <td>770.00</td>\n",
       "    </tr>\n",
       "    <tr>\n",
       "      <th>temp_avg</th>\n",
       "      <td>1645006.0</td>\n",
       "      <td>58.655499</td>\n",
       "      <td>19.419261</td>\n",
       "      <td>-20.341428</td>\n",
       "      <td>44.458571</td>\n",
       "      <td>62.715714</td>\n",
       "      <td>74.93</td>\n",
       "      <td>94.73</td>\n",
       "    </tr>\n",
       "    <tr>\n",
       "      <th>temp_max</th>\n",
       "      <td>1645006.0</td>\n",
       "      <td>67.458183</td>\n",
       "      <td>20.364944</td>\n",
       "      <td>-18.670000</td>\n",
       "      <td>53.330000</td>\n",
       "      <td>71.330000</td>\n",
       "      <td>83.93</td>\n",
       "      <td>125.33</td>\n",
       "    </tr>\n",
       "    <tr>\n",
       "      <th>temp_min</th>\n",
       "      <td>1645006.0</td>\n",
       "      <td>47.206496</td>\n",
       "      <td>18.732557</td>\n",
       "      <td>-29.470000</td>\n",
       "      <td>33.530000</td>\n",
       "      <td>49.730000</td>\n",
       "      <td>62.33</td>\n",
       "      <td>91.13</td>\n",
       "    </tr>\n",
       "    <tr>\n",
       "      <th>snow</th>\n",
       "      <td>1645006.0</td>\n",
       "      <td>0.091362</td>\n",
       "      <td>0.288123</td>\n",
       "      <td>0.000000</td>\n",
       "      <td>0.000000</td>\n",
       "      <td>0.000000</td>\n",
       "      <td>0.00</td>\n",
       "      <td>1.00</td>\n",
       "    </tr>\n",
       "    <tr>\n",
       "      <th>thunderstorm</th>\n",
       "      <td>1645006.0</td>\n",
       "      <td>0.106406</td>\n",
       "      <td>0.308357</td>\n",
       "      <td>0.000000</td>\n",
       "      <td>0.000000</td>\n",
       "      <td>0.000000</td>\n",
       "      <td>0.00</td>\n",
       "      <td>1.00</td>\n",
       "    </tr>\n",
       "    <tr>\n",
       "      <th>rain</th>\n",
       "      <td>1645006.0</td>\n",
       "      <td>0.419164</td>\n",
       "      <td>0.493422</td>\n",
       "      <td>0.000000</td>\n",
       "      <td>0.000000</td>\n",
       "      <td>0.000000</td>\n",
       "      <td>1.00</td>\n",
       "      <td>1.00</td>\n",
       "    </tr>\n",
       "    <tr>\n",
       "      <th>clear_weather</th>\n",
       "      <td>1645006.0</td>\n",
       "      <td>0.653525</td>\n",
       "      <td>0.475847</td>\n",
       "      <td>0.000000</td>\n",
       "      <td>0.000000</td>\n",
       "      <td>1.000000</td>\n",
       "      <td>1.00</td>\n",
       "      <td>1.00</td>\n",
       "    </tr>\n",
       "  </tbody>\n",
       "</table>\n",
       "</div>"
      ],
      "text/plain": [
       "                   count         mean          std         min          25%  \\\n",
       "rest_number    1645006.0  4707.706301  2999.923875    1.000000  1211.000000   \n",
       "rest_dma_code  1645006.0   563.754927    63.872583  501.000000   518.000000   \n",
       "temp_avg       1645006.0    58.655499    19.419261  -20.341428    44.458571   \n",
       "temp_max       1645006.0    67.458183    20.364944  -18.670000    53.330000   \n",
       "temp_min       1645006.0    47.206496    18.732557  -29.470000    33.530000   \n",
       "snow           1645006.0     0.091362     0.288123    0.000000     0.000000   \n",
       "thunderstorm   1645006.0     0.106406     0.308357    0.000000     0.000000   \n",
       "rain           1645006.0     0.419164     0.493422    0.000000     0.000000   \n",
       "clear_weather  1645006.0     0.653525     0.475847    0.000000     0.000000   \n",
       "\n",
       "                       50%      75%      max  \n",
       "rest_number    5934.000000  7317.00  9002.00  \n",
       "rest_dma_code   538.000000   588.00   770.00  \n",
       "temp_avg         62.715714    74.93    94.73  \n",
       "temp_max         71.330000    83.93   125.33  \n",
       "temp_min         49.730000    62.33    91.13  \n",
       "snow              0.000000     0.00     1.00  \n",
       "thunderstorm      0.000000     0.00     1.00  \n",
       "rain              0.000000     1.00     1.00  \n",
       "clear_weather     1.000000     1.00     1.00  "
      ]
     },
     "execution_count": 37,
     "metadata": {},
     "output_type": "execute_result"
    }
   ],
   "source": [
    "weather.describe().transpose()"
   ]
  },
  {
   "cell_type": "markdown",
   "metadata": {},
   "source": [
    "## Conclusion"
   ]
  },
  {
   "cell_type": "markdown",
   "metadata": {},
   "source": [
    "### Call to Action"
   ]
  },
  {
   "cell_type": "markdown",
   "metadata": {},
   "source": [
    "## References"
   ]
  },
  {
   "cell_type": "markdown",
   "metadata": {},
   "source": [
    "## Legends"
   ]
  },
  {
   "cell_type": "markdown",
   "metadata": {},
   "source": [
    "### Figures"
   ]
  },
  {
   "cell_type": "markdown",
   "metadata": {},
   "source": [
    "### Tables"
   ]
  }
 ],
 "metadata": {
  "kernelspec": {
   "display_name": "Python 3",
   "language": "python",
   "name": "python3"
  },
  "language_info": {
   "codemirror_mode": {
    "name": "ipython",
    "version": 3
   },
   "file_extension": ".py",
   "mimetype": "text/x-python",
   "name": "python",
   "nbconvert_exporter": "python",
   "pygments_lexer": "ipython3",
   "version": "3.6.3"
  },
  "toc": {
   "base_numbering": 1,
   "nav_menu": {},
   "number_sections": true,
   "sideBar": true,
   "skip_h1_title": true,
   "title_cell": "Table of Contents",
   "title_sidebar": "Contents",
   "toc_cell": false,
   "toc_position": {},
   "toc_section_display": true,
   "toc_window_display": true
  }
 },
 "nbformat": 4,
 "nbformat_minor": 2
}
